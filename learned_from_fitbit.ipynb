{
 "cells": [
  {
   "attachments": {},
   "cell_type": "markdown",
   "metadata": {},
   "source": [
    "# Clean dataframe"
   ]
  },
  {
   "cell_type": "code",
   "execution_count": 51,
   "metadata": {},
   "outputs": [
    {
     "name": "stdout",
     "output_type": "stream",
     "text": [
      "          date_time heart_zone_id total_minutes Unnamed: 3  Unnamed: 4\n",
      "0  2023-06-27T17:56      FAT_BURN             1        NaN         NaN\n",
      "1  2023-06-27T17:57      FAT_BURN             1        NaN         NaN\n",
      "2  2023-06-27T17:58        CARDIO             2        NaN         NaN\n",
      "3  2023-06-27T17:59        CARDIO             2        NaN         NaN\n",
      "4  2023-06-27T18:00        CARDIO             2        NaN         NaN\n"
     ]
    }
   ],
   "source": [
    "import pandas as pd\n",
    "AZM = pd.read_csv('ActiveZoneMinutes.csv')\n",
    "print(AZM.head(5))"
   ]
  },
  {
   "attachments": {},
   "cell_type": "markdown",
   "metadata": {},
   "source": [
    "### There are many empty columns, drop them\n",
    "\n",
    "Can't have multiple column names inside function, need to define a new list stores column names and drop the new list\n",
    "\n",
    "col_sleep = ['unwant1', 'unwant2']\n",
    "\n",
    "AZM = AZM.drop(col_sleep, axis=1)"
   ]
  },
  {
   "attachments": {},
   "cell_type": "markdown",
   "metadata": {},
   "source": [
    "### Or select the columns you want"
   ]
  },
  {
   "cell_type": "code",
   "execution_count": 52,
   "metadata": {},
   "outputs": [
    {
     "name": "stdout",
     "output_type": "stream",
     "text": [
      "          date_time total_minutes heart_zone_id\n",
      "0  2023-06-27T17:56             1      FAT_BURN\n",
      "1  2023-06-27T17:57             1      FAT_BURN\n",
      "2  2023-06-27T17:58             2        CARDIO\n",
      "3  2023-06-27T17:59             2        CARDIO\n",
      "4  2023-06-27T18:00             2        CARDIO\n"
     ]
    }
   ],
   "source": [
    "col_AZM = ['date_time', 'total_minutes', 'heart_zone_id']\n",
    "AZM = AZM[col_AZM]\n",
    "\n",
    "print(AZM.head(5))"
   ]
  },
  {
   "attachments": {},
   "cell_type": "markdown",
   "metadata": {},
   "source": [
    "### Summarize by date not time"
   ]
  },
  {
   "attachments": {},
   "cell_type": "markdown",
   "metadata": {},
   "source": [
    "1. convert 'date_time' to date format & convert 'total_minutes' to numeric\n",
    "\n",
    ".dt.date ensures only keep date"
   ]
  },
  {
   "cell_type": "code",
   "execution_count": 53,
   "metadata": {},
   "outputs": [
    {
     "name": "stdout",
     "output_type": "stream",
     "text": [
      "    date_time  total_minutes heart_zone_id\n",
      "0  2023-06-27            1.0      FAT_BURN\n",
      "1  2023-06-27            1.0      FAT_BURN\n",
      "2  2023-06-27            2.0        CARDIO\n",
      "3  2023-06-27            2.0        CARDIO\n",
      "4  2023-06-27            2.0        CARDIO\n"
     ]
    }
   ],
   "source": [
    "AZM['date_time'] = pd.to_datetime(AZM['date_time']).dt.date\n",
    "AZM['total_minutes'] = pd.to_numeric(AZM['total_minutes'], errors='coerce')\n",
    "\n",
    "print(AZM.head(5))"
   ]
  },
  {
   "attachments": {},
   "cell_type": "markdown",
   "metadata": {},
   "source": [
    "2. combine each date"
   ]
  },
  {
   "cell_type": "code",
   "execution_count": 54,
   "metadata": {},
   "outputs": [
    {
     "name": "stdout",
     "output_type": "stream",
     "text": [
      "    date_time  total_minutes heart_zone_id\n",
      "0  2023-06-27            1.0      FAT_BURN\n",
      "1  2023-06-27            1.0      FAT_BURN\n",
      "2  2023-06-27            2.0        CARDIO\n",
      "3  2023-06-27            2.0        CARDIO\n",
      "4  2023-06-27            2.0        CARDIO\n"
     ]
    }
   ],
   "source": [
    "AZM_grouped= AZM.groupby(AZM['date_time']) # group by date\n",
    "sum_total_min = AZM_grouped['total_minutes'].sum() # sum over total minutes\n",
    "\n",
    "print(AZM.head(5))"
   ]
  },
  {
   "attachments": {},
   "cell_type": "markdown",
   "metadata": {},
   "source": [
    "3. reset index so display one row per date"
   ]
  },
  {
   "cell_type": "code",
   "execution_count": 55,
   "metadata": {},
   "outputs": [
    {
     "name": "stdout",
     "output_type": "stream",
     "text": [
      "      date_time  total_minutes\n",
      "0    2023-06-27           77.0\n",
      "1    2023-06-28           32.0\n",
      "2    2023-06-29          157.0\n",
      "3    2023-06-30           34.0\n",
      "4    2023-07-01            1.0\n",
      "..          ...            ...\n",
      "159  2023-12-14            6.0\n",
      "160  2023-12-15           87.0\n",
      "161  2023-12-16          175.0\n",
      "162  2023-12-17           58.0\n",
      "163  2023-12-18            7.0\n",
      "\n",
      "[164 rows x 2 columns]\n"
     ]
    }
   ],
   "source": [
    "AZM = sum_total_min.reset_index()\n",
    "\n",
    "print(AZM)"
   ]
  }
 ],
 "metadata": {
  "kernelspec": {
   "display_name": "Python 3",
   "language": "python",
   "name": "python3"
  },
  "language_info": {
   "codemirror_mode": {
    "name": "ipython",
    "version": 3
   },
   "file_extension": ".py",
   "mimetype": "text/x-python",
   "name": "python",
   "nbconvert_exporter": "python",
   "pygments_lexer": "ipython3",
   "version": "3.11.2"
  },
  "orig_nbformat": 4
 },
 "nbformat": 4,
 "nbformat_minor": 2
}
