{
 "cells": [
  {
   "attachments": {},
   "cell_type": "markdown",
   "metadata": {},
   "source": [
    "# Data Cleaning and Orginization"
   ]
  },
  {
   "attachments": {},
   "cell_type": "markdown",
   "metadata": {},
   "source": [
    "The data I exported from fitbit website contains folders for all the metrics, some metrics are recorded in different ways (ie. some are summarized by day, some are summarized by month, others are recorded by specific interval ). Therefore, I need to organize them uniformly to get a overall dataframe."
   ]
  },
  {
   "attachments": {},
   "cell_type": "markdown",
   "metadata": {},
   "source": [
    "### 1. Merge Data Into Single Dataframe with Corresponding Dates For Each Variable\n",
    "### 2. Rename Columns For Each Variable"
   ]
  },
  {
   "cell_type": "code",
   "execution_count": 111,
   "metadata": {},
   "outputs": [
    {
     "name": "stdout",
     "output_type": "stream",
     "text": [
      "         date  AZM_minutes\n",
      "0  2023-06-27         77.0\n",
      "1  2023-06-28         32.0\n",
      "2  2023-06-29        157.0\n",
      "3  2023-06-30         34.0\n",
      "4  2023-07-01          1.0\n",
      "(164, 2)\n"
     ]
    }
   ],
   "source": [
    "import pandas as pd\n",
    "import numpy as np\n",
    "import matplotlib.pyplot as plt\n",
    "\n",
    "'Variable 1 : Active Zone Minutes'\n",
    "# keep only 'date_time' and 'total_minutes' columns\n",
    "AZM_df = pd.read_csv('ActiveZoneMinutes.csv')\n",
    "AZM_df = AZM_df.drop('heart_zone_id', axis=1)\n",
    "\n",
    "# convert format\n",
    "AZM_df['date_time'] = pd.to_datetime(AZM_df['date_time'])\n",
    "AZM_df['total_minutes'] = pd.to_numeric(AZM_df['total_minutes'], errors='coerce')\n",
    "\n",
    "# group by date and sum total minutes\n",
    "AZM_grouped = AZM_df.groupby(AZM_df['date_time'].dt.date)\n",
    "sum_total_minutes = AZM_grouped['total_minutes'].sum()\n",
    "AZM_df = sum_total_minutes.reset_index()\n",
    "\n",
    "# rename columns\n",
    "new_AZM = {'date_time' : 'date', 'total_minutes' : 'AZM_minutes'}\n",
    "AZM_df = AZM_df.rename(columns=new_AZM)\n",
    "\n",
    "print(AZM_df.head(5))\n",
    "print(AZM_df.shape)"
   ]
  },
  {
   "cell_type": "code",
   "execution_count": 112,
   "metadata": {},
   "outputs": [
    {
     "name": "stdout",
     "output_type": "stream",
     "text": [
      "         date      rmssd    nremhr      entropy\n",
      "0  2023-06-28  56.078825  0.972186   808.054515\n",
      "1  2023-06-29  67.893931  0.969713  1106.613195\n",
      "2  2023-06-30  63.092575  0.974014   930.920795\n",
      "3  2023-07-01  87.917760  0.967302  1320.889031\n",
      "4  2023-07-02  60.617967  0.971125   950.854017\n",
      "(162, 4)\n"
     ]
    },
    {
     "name": "stderr",
     "output_type": "stream",
     "text": [
      "/var/folders/tp/6kwhdvr504795tj0h4_byy2c0000gn/T/ipykernel_26555/2574532058.py:2: DtypeWarning: Columns (1,2,4,5,12) have mixed types. Specify dtype option on import or set low_memory=False.\n",
      "  DHR_df = pd.read_csv('DailyHeartRateVariability.csv')\n"
     ]
    }
   ],
   "source": [
    "'Variable 2 : Daily Heart Rate Variability'\n",
    "DHR_df = pd.read_csv('DailyHeartRateVariability.csv')\n",
    "# keep 'timestamp', 'rmssd', 'nremhr', 'entropy'\n",
    "DHR_columns = ['timestamp', 'rmssd', 'nremhr', 'entropy']\n",
    "DHR_df = DHR_df[DHR_columns]\n",
    "\n",
    "# convert format\n",
    "DHR_df['timestamp'] = pd.to_datetime(DHR_df['timestamp']).dt.date\n",
    "numeric_columns = ['rmssd', 'nremhr', 'entropy']\n",
    "DHR_df[numeric_columns] = DHR_df[numeric_columns].apply(pd.to_numeric, errors='coerce')\n",
    "\n",
    "# take mean of each variable\n",
    "DHR_df = DHR_df.groupby(DHR_df['timestamp']).mean().reset_index()\n",
    "\n",
    "# rename column\n",
    "new_DHR = {'timestamp' : 'date'}\n",
    "DHR_df = DHR_df.rename(columns=new_DHR)\n",
    "\n",
    "print(DHR_df.head(5))\n",
    "print(DHR_df.shape)"
   ]
  },
  {
   "cell_type": "code",
   "execution_count": 113,
   "metadata": {},
   "outputs": [
    {
     "name": "stdout",
     "output_type": "stream",
     "text": [
      "         date  sleep_score  deep_sleep_min  resting_heart_rate\n",
      "0  2023-06-29           68              96                  58\n",
      "1  2023-06-30           65              65                  57\n",
      "2  2023-07-01           85             106                  57\n",
      "3  2023-07-02           84              90                  56\n",
      "4  2023-07-03           80              78                  56\n",
      "(161, 4)\n"
     ]
    }
   ],
   "source": [
    "'variable 3 : sleep score'\n",
    "# since restlessness column depend on day performance and there are days I was not wearing\n",
    "# I decide to drop this column\n",
    "# https://www.zdnet.com/article/fitbits-sleep-score-beta/\n",
    "\n",
    "sleep_df = pd.read_csv('sleep_score.csv')\n",
    "sleep_df = sleep_df[['timestamp', 'overall_score', 'deep_sleep_in_minutes', 'resting_heart_rate']]\n",
    "\n",
    "# convert format\n",
    "sleep_df['timestamp'] = pd.to_datetime(sleep_df['timestamp']).dt.date # dt.date to keep date only, disregard time\n",
    "numeric_columns3 = ['overall_score', 'deep_sleep_in_minutes', 'resting_heart_rate']\n",
    "sleep_df[numeric_columns3] = sleep_df[numeric_columns3].apply(pd.to_numeric, errors='coerce')\n",
    "sleep_df = sleep_df.sort_values(by='timestamp') # sort in ascending order\n",
    "\n",
    "# rename columns\n",
    "new_sleep = {'timestamp' : 'date', 'overall_score' : 'sleep_score', 'deep_sleep_in_minutes' : 'deep_sleep_min'}\n",
    "sleep_df = sleep_df.rename(columns=new_sleep)\n",
    "sleep_df = sleep_df.reset_index(drop=True)\n",
    "\n",
    "print(sleep_df.head(5))\n",
    "print(sleep_df.shape)"
   ]
  },
  {
   "cell_type": "code",
   "execution_count": 114,
   "metadata": {},
   "outputs": [
    {
     "name": "stdout",
     "output_type": "stream",
     "text": [
      "         date  stress_score\n",
      "1  2023-06-29            77\n",
      "2  2023-06-30            80\n",
      "3  2023-07-01            86\n",
      "4  2023-07-02            79\n",
      "5  2023-07-03            82\n",
      "(158, 2)\n"
     ]
    }
   ],
   "source": [
    "'variable 4 : stress score'\n",
    "# I am unsure about how stress_score is calculated but I will keep this variable for now\n",
    "# only keep columns 'date', 'stress_score'\n",
    "\n",
    "stress_df = pd.read_csv('stress_score.csv')\n",
    "stress_df = stress_df[['DATE', 'STRESS_SCORE']]\n",
    "\n",
    "# convert format\n",
    "stress_df['DATE'] = pd.to_datetime(stress_df['DATE']).dt.date\n",
    "new_stress = {'DATE' : 'date', 'STRESS_SCORE' : 'stress_score'}\n",
    "stress_df = stress_df.rename(columns=new_stress)\n",
    "\n",
    "# remove rows with stress_score == 0\n",
    "stress_df = stress_df[stress_df['stress_score'] != 0]\n",
    "\n",
    "print(stress_df.head(5))\n",
    "print(stress_df.shape)"
   ]
  },
  {
   "cell_type": "code",
   "execution_count": 115,
   "metadata": {},
   "outputs": [
    {
     "name": "stdout",
     "output_type": "stream",
     "text": [
      "         date     o2_avg  o2_lower_bound  o2_upper_bound\n",
      "0  2023-06-28  87.149551           90.05            99.7\n",
      "1  2023-06-29  84.797266           70.70            98.8\n",
      "2  2023-06-30  83.358629           93.05            98.4\n",
      "3  2023-07-01  84.843333           86.35            98.6\n",
      "4  2023-07-02  84.867290           86.75            98.2\n",
      "(165, 4)\n"
     ]
    }
   ],
   "source": [
    "'variable 5 : oxygen saturation'\n",
    "\n",
    "o2_df = pd.read_csv('o2.csv')\n",
    "\n",
    "# convert format\n",
    "o2_df['date'] = pd.to_datetime(o2_df['date']).dt.date\n",
    "num_o2 = ['o2_avg', 'o2_lower_bound', 'o2_upper_bound']\n",
    "o2_df[num_o2] = o2_df[num_o2].apply(pd.to_numeric, errors='coerce')\n",
    "\n",
    "# take mean of each variable\n",
    "o2_df = o2_df.groupby(o2_df['date']).mean().reset_index()\n",
    "\n",
    "print(o2_df.head(5))\n",
    "print(o2_df.shape)"
   ]
  },
  {
   "attachments": {},
   "cell_type": "markdown",
   "metadata": {},
   "source": [
    "### 3. Merge ALL Data Into Single Dataframe "
   ]
  },
  {
   "cell_type": "code",
   "execution_count": 116,
   "metadata": {},
   "outputs": [
    {
     "name": "stdout",
     "output_type": "stream",
     "text": [
      "         date  AZM_minutes        date      rmssd    nremhr      entropy  \\\n",
      "0  2023-06-27         77.0  2023-06-28  56.078825  0.972186   808.054515   \n",
      "1  2023-06-28         32.0  2023-06-29  67.893931  0.969713  1106.613195   \n",
      "2  2023-06-29        157.0  2023-06-30  63.092575  0.974014   930.920795   \n",
      "3  2023-06-30         34.0  2023-07-01  87.917760  0.967302  1320.889031   \n",
      "4  2023-07-01          1.0  2023-07-02  60.617967  0.971125   950.854017   \n",
      "\n",
      "         date  sleep_score  deep_sleep_min  resting_heart_rate        date  \\\n",
      "0  2023-06-29         68.0            96.0                58.0         NaN   \n",
      "1  2023-06-30         65.0            65.0                57.0  2023-06-29   \n",
      "2  2023-07-01         85.0           106.0                57.0  2023-06-30   \n",
      "3  2023-07-02         84.0            90.0                56.0  2023-07-01   \n",
      "4  2023-07-03         80.0            78.0                56.0  2023-07-02   \n",
      "\n",
      "   stress_score        date     o2_avg  o2_lower_bound  o2_upper_bound  \n",
      "0           NaN  2023-06-28  87.149551           90.05            99.7  \n",
      "1          77.0  2023-06-29  84.797266           70.70            98.8  \n",
      "2          80.0  2023-06-30  83.358629           93.05            98.4  \n",
      "3          86.0  2023-07-01  84.843333           86.35            98.6  \n",
      "4          79.0  2023-07-02  84.867290           86.75            98.2  \n",
      "           date  AZM_minutes        date      rmssd    nremhr     entropy  \\\n",
      "160  2023-12-15         87.0  2023-12-18  51.326855  0.971345  807.684509   \n",
      "161  2023-12-16        175.0  2023-12-19  13.600000  7.600000    7.706500   \n",
      "162  2023-12-17         58.0         NaN        NaN       NaN         NaN   \n",
      "163  2023-12-18          7.0         NaN        NaN       NaN         NaN   \n",
      "164         NaN          NaN         NaN        NaN       NaN         NaN   \n",
      "\n",
      "           date  sleep_score  deep_sleep_min  resting_heart_rate        date  \\\n",
      "160  2023-12-19         90.0            99.0                61.0  2023-12-18   \n",
      "161         NaN          NaN             NaN                 NaN  2023-12-19   \n",
      "162         NaN          NaN             NaN                 NaN         NaN   \n",
      "163         NaN          NaN             NaN                 NaN         NaN   \n",
      "164         NaN          NaN             NaN                 NaN         NaN   \n",
      "\n",
      "     stress_score        date     o2_avg  o2_lower_bound  o2_upper_bound  \n",
      "160          75.0  2023-12-15  84.368413           71.95            97.5  \n",
      "161          75.0  2023-12-16  87.377273           93.80            99.4  \n",
      "162           NaN  2023-12-17  86.128733           95.75            97.7  \n",
      "163           NaN  2023-12-18  83.706016           90.00            94.7  \n",
      "164           NaN  2023-12-19  87.237288           90.00             NaN  \n"
     ]
    }
   ],
   "source": [
    "'merge all df into one'\n",
    "fitbit_df = pd.concat([AZM_df, DHR_df, sleep_df, stress_df, o2_df], axis=1)\n",
    "\n",
    "print(fitbit_df.head(5))\n",
    "print(fitbit_df.tail(5))"
   ]
  },
  {
   "attachments": {},
   "cell_type": "markdown",
   "metadata": {},
   "source": [
    "### 4. Drop NA values"
   ]
  },
  {
   "attachments": {},
   "cell_type": "markdown",
   "metadata": {},
   "source": [
    "There is not significant number of rows we removed"
   ]
  },
  {
   "cell_type": "code",
   "execution_count": 117,
   "metadata": {},
   "outputs": [
    {
     "name": "stdout",
     "output_type": "stream",
     "text": [
      "(152, 16)\n"
     ]
    }
   ],
   "source": [
    "fitbit_df = fitbit_df.dropna()\n",
    "print(fitbit_df.shape)"
   ]
  },
  {
   "attachments": {},
   "cell_type": "markdown",
   "metadata": {},
   "source": [
    "We finally obtained the complete data that is ready to be analyzed!"
   ]
  }
 ],
 "metadata": {
  "kernelspec": {
   "display_name": "Python 3",
   "language": "python",
   "name": "python3"
  },
  "language_info": {
   "codemirror_mode": {
    "name": "ipython",
    "version": 3
   },
   "file_extension": ".py",
   "mimetype": "text/x-python",
   "name": "python",
   "nbconvert_exporter": "python",
   "pygments_lexer": "ipython3",
   "version": "3.11.2"
  },
  "orig_nbformat": 4
 },
 "nbformat": 4,
 "nbformat_minor": 2
}
